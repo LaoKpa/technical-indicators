{
 "cells": [
  {
   "cell_type": "code",
   "execution_count": 308,
   "metadata": {},
   "outputs": [],
   "source": [
    "%matplotlib inline\n",
    "\n",
    "import matplotlib.pyplot as plt\n",
    "import matplotlib.dates as mdates\n",
    "from datetime import datetime \n",
    "import pandas as pd\n",
    "\n",
    "from mpl_finance import candlestick_ohlc"
   ]
  },
  {
   "cell_type": "code",
   "execution_count": 309,
   "metadata": {},
   "outputs": [
    {
     "data": {
      "text/html": [
       "<div>\n",
       "<style scoped>\n",
       "    .dataframe tbody tr th:only-of-type {\n",
       "        vertical-align: middle;\n",
       "    }\n",
       "\n",
       "    .dataframe tbody tr th {\n",
       "        vertical-align: top;\n",
       "    }\n",
       "\n",
       "    .dataframe thead th {\n",
       "        text-align: right;\n",
       "    }\n",
       "</style>\n",
       "<table border=\"1\" class=\"dataframe\">\n",
       "  <thead>\n",
       "    <tr style=\"text-align: right;\">\n",
       "      <th></th>\n",
       "      <th>Date</th>\n",
       "      <th>Open</th>\n",
       "      <th>High</th>\n",
       "      <th>Low</th>\n",
       "      <th>Close</th>\n",
       "      <th>Volume</th>\n",
       "      <th>Adj Close</th>\n",
       "    </tr>\n",
       "  </thead>\n",
       "  <tbody>\n",
       "    <tr>\n",
       "      <th>0</th>\n",
       "      <td>2008-10-14</td>\n",
       "      <td>116.26</td>\n",
       "      <td>116.40</td>\n",
       "      <td>103.14</td>\n",
       "      <td>104.08</td>\n",
       "      <td>70749800</td>\n",
       "      <td>104.08</td>\n",
       "    </tr>\n",
       "    <tr>\n",
       "      <th>1</th>\n",
       "      <td>2008-10-13</td>\n",
       "      <td>104.55</td>\n",
       "      <td>110.53</td>\n",
       "      <td>101.02</td>\n",
       "      <td>110.26</td>\n",
       "      <td>54967000</td>\n",
       "      <td>110.26</td>\n",
       "    </tr>\n",
       "    <tr>\n",
       "      <th>2</th>\n",
       "      <td>2008-10-10</td>\n",
       "      <td>85.70</td>\n",
       "      <td>100.00</td>\n",
       "      <td>85.00</td>\n",
       "      <td>96.80</td>\n",
       "      <td>79260700</td>\n",
       "      <td>96.80</td>\n",
       "    </tr>\n",
       "    <tr>\n",
       "      <th>3</th>\n",
       "      <td>2008-10-09</td>\n",
       "      <td>93.35</td>\n",
       "      <td>95.80</td>\n",
       "      <td>86.60</td>\n",
       "      <td>88.74</td>\n",
       "      <td>57763700</td>\n",
       "      <td>88.74</td>\n",
       "    </tr>\n",
       "    <tr>\n",
       "      <th>4</th>\n",
       "      <td>2008-10-08</td>\n",
       "      <td>85.91</td>\n",
       "      <td>96.33</td>\n",
       "      <td>85.68</td>\n",
       "      <td>89.79</td>\n",
       "      <td>78847900</td>\n",
       "      <td>89.79</td>\n",
       "    </tr>\n",
       "  </tbody>\n",
       "</table>\n",
       "</div>"
      ],
      "text/plain": [
       "         Date    Open    High     Low   Close    Volume  Adj Close\n",
       "0  2008-10-14  116.26  116.40  103.14  104.08  70749800     104.08\n",
       "1  2008-10-13  104.55  110.53  101.02  110.26  54967000     110.26\n",
       "2  2008-10-10   85.70  100.00   85.00   96.80  79260700      96.80\n",
       "3  2008-10-09   93.35   95.80   86.60   88.74  57763700      88.74\n",
       "4  2008-10-08   85.91   96.33   85.68   89.79  78847900      89.79"
      ]
     },
     "execution_count": 309,
     "metadata": {},
     "output_type": "execute_result"
    }
   ],
   "source": [
    "filename = r'../data/aapl.csv'\n",
    "df = pd.read_csv(filename)\n",
    "df.head()"
   ]
  },
  {
   "cell_type": "code",
   "execution_count": null,
   "metadata": {},
   "outputs": [],
   "source": []
  },
  {
   "cell_type": "code",
   "execution_count": 310,
   "metadata": {},
   "outputs": [
    {
     "data": {
      "text/plain": [
       "1223913600.0"
      ]
     },
     "execution_count": 310,
     "metadata": {},
     "output_type": "execute_result"
    }
   ],
   "source": [
    "dt = datetime.strptime('2008-10-14', '%Y-%m-%d')\n",
    "dt.timestamp()"
   ]
  },
  {
   "cell_type": "code",
   "execution_count": 311,
   "metadata": {},
   "outputs": [
    {
     "data": {
      "text/html": [
       "<div>\n",
       "<style scoped>\n",
       "    .dataframe tbody tr th:only-of-type {\n",
       "        vertical-align: middle;\n",
       "    }\n",
       "\n",
       "    .dataframe tbody tr th {\n",
       "        vertical-align: top;\n",
       "    }\n",
       "\n",
       "    .dataframe thead th {\n",
       "        text-align: right;\n",
       "    }\n",
       "</style>\n",
       "<table border=\"1\" class=\"dataframe\">\n",
       "  <thead>\n",
       "    <tr style=\"text-align: right;\">\n",
       "      <th></th>\n",
       "      <th>Date</th>\n",
       "      <th>Open</th>\n",
       "      <th>High</th>\n",
       "      <th>Low</th>\n",
       "      <th>Close</th>\n",
       "    </tr>\n",
       "  </thead>\n",
       "  <tbody>\n",
       "    <tr>\n",
       "      <th>0</th>\n",
       "      <td>1.223914e+09</td>\n",
       "      <td>116.26</td>\n",
       "      <td>116.40</td>\n",
       "      <td>103.14</td>\n",
       "      <td>104.08</td>\n",
       "    </tr>\n",
       "    <tr>\n",
       "      <th>1</th>\n",
       "      <td>1.223827e+09</td>\n",
       "      <td>104.55</td>\n",
       "      <td>110.53</td>\n",
       "      <td>101.02</td>\n",
       "      <td>110.26</td>\n",
       "    </tr>\n",
       "    <tr>\n",
       "      <th>2</th>\n",
       "      <td>1.223568e+09</td>\n",
       "      <td>85.70</td>\n",
       "      <td>100.00</td>\n",
       "      <td>85.00</td>\n",
       "      <td>96.80</td>\n",
       "    </tr>\n",
       "    <tr>\n",
       "      <th>3</th>\n",
       "      <td>1.223482e+09</td>\n",
       "      <td>93.35</td>\n",
       "      <td>95.80</td>\n",
       "      <td>86.60</td>\n",
       "      <td>88.74</td>\n",
       "    </tr>\n",
       "    <tr>\n",
       "      <th>4</th>\n",
       "      <td>1.223395e+09</td>\n",
       "      <td>85.91</td>\n",
       "      <td>96.33</td>\n",
       "      <td>85.68</td>\n",
       "      <td>89.79</td>\n",
       "    </tr>\n",
       "  </tbody>\n",
       "</table>\n",
       "</div>"
      ],
      "text/plain": [
       "           Date    Open    High     Low   Close\n",
       "0  1.223914e+09  116.26  116.40  103.14  104.08\n",
       "1  1.223827e+09  104.55  110.53  101.02  110.26\n",
       "2  1.223568e+09   85.70  100.00   85.00   96.80\n",
       "3  1.223482e+09   93.35   95.80   86.60   88.74\n",
       "4  1.223395e+09   85.91   96.33   85.68   89.79"
      ]
     },
     "execution_count": 311,
     "metadata": {},
     "output_type": "execute_result"
    }
   ],
   "source": [
    "# Map the column date to the appropriate format\n",
    "df['Date'] = df['Date'].apply(lambda dt: datetime.strptime(dt, '%Y-%m-%d').timestamp())\n",
    "\n",
    "ohlc = df[['Date','Open','High','Low','Close']]\n",
    "ohlc.head()"
   ]
  },
  {
   "cell_type": "code",
   "execution_count": 312,
   "metadata": {},
   "outputs": [],
   "source": [
    "ohlc = ohlc.head(20)"
   ]
  },
  {
   "cell_type": "code",
   "execution_count": 313,
   "metadata": {},
   "outputs": [
    {
     "data": {
      "image/png": "[encoded data removed]",
      "text/plain": [
       "<Figure size 1152x648 with 1 Axes>"
      ]
     },
     "metadata": {},
     "output_type": "display_data"
    }
   ],
   "source": [
    "f1, ax = plt.subplots(figsize = (16,9))\n",
    "\n",
    "# plot the candlesticks\n",
    "candlestick_ohlc(ax, ohlc.values, width=2, colorup='green', colordown='red')\n",
    "\n",
    "plt.show()"
   ]
  },
  {
   "cell_type": "code",
   "execution_count": 314,
   "metadata": {},
   "outputs": [],
   "source": [
    "from matplotlib.collections import PatchCollection, LineCollection\n",
    "from matplotlib.patches import Rectangle\n",
    "from matplotlib.lines import Line2D, TICKLEFT, TICKRIGHT\n",
    "\n",
    "import numpy as np\n",
    "import math"
   ]
  },
  {
   "cell_type": "code",
   "execution_count": 315,
   "metadata": {},
   "outputs": [
    {
     "name": "stdout",
     "output_type": "stream",
     "text": [
      "          Date    Open    High     Low   Close\n",
      "19  2008-09-17  138.49  138.51  127.83  127.83\n",
      "18  2008-09-18  130.57  135.43  120.68  134.09\n",
      "17  2008-09-19  142.60  144.20  136.31  140.91\n",
      "16  2008-09-22  139.94  140.25  130.66  131.05\n",
      "15  2008-09-23  131.85  135.80  126.66  126.84\n"
     ]
    },
    {
     "data": {
      "image/png": "[encoded data removed]",
      "text/plain": [
       "<Figure size 1152x648 with 1 Axes>"
      ]
     },
     "metadata": {},
     "output_type": "display_data"
    }
   ],
   "source": [
    "def readable_date(timestamp):\n",
    "    return datetime.fromtimestamp(timestamp).strftime('%Y-%m-%d')\n",
    "\n",
    "def candlestick(ax, x, y, xlabel, ylabel, w=1.0):\n",
    "    n = len(x)\n",
    "    alpha = 1\n",
    "    miny, maxy = math.inf, -math.inf\n",
    "    minx, maxx = 0, n\n",
    "\n",
    "    for i in range(0, n):\n",
    "        Date, Open, High, Low, Close = y[i]\n",
    "        is_green = Close >= Open\n",
    "        h = abs(Open - Close)\n",
    "        xpos = i - w / 2\n",
    "        ypos = min(Open, Close)\n",
    "\n",
    "        if Low < miny:\n",
    "            miny = Low\n",
    "        if High > maxy:\n",
    "            maxy = High\n",
    "\n",
    "        # Plot the open/close lines\n",
    "        ytop, ybtm = Open, Close\n",
    "        color = 'red'\n",
    "        toptick, btmtick = TICKLEFT, TICKRIGHT\n",
    "        toph, btmh = High - Open, Close - Low\n",
    "        if is_green:\n",
    "            ytop, ybtm = ybtm, ytop\n",
    "            color = 'green'\n",
    "            toptick, btmtick = btmtick, toptick\n",
    "            toph, btmh = High - Close, Open - Low\n",
    "\n",
    "        # Draw the rectangle from bottom left\n",
    "        rect = Rectangle((xpos, ypos), \n",
    "                         w, \n",
    "                         h, \n",
    "                         color=color)\n",
    "        ax.add_patch(rect)\n",
    "\n",
    "        # Top line\n",
    "        tline = Line2D(xdata=(i, i),\n",
    "                       ydata=(ytop, ytop + toph),\n",
    "                       marker=toptick,\n",
    "                       color=color,\n",
    "                       alpha=alpha)\n",
    "        ax.add_line(tline)\n",
    "\n",
    "        # Bottom line\n",
    "        bline = Line2D(xdata=(i, i),\n",
    "                       ydata=(ybtm, ybtm - btmh),\n",
    "                       marker=btmtick,\n",
    "                       color=color,\n",
    "                       alpha=alpha)\n",
    "        ax.add_line(bline)\n",
    "\n",
    "    # Min and max corners respectively\n",
    "    corners = (minx, miny), (maxx, maxy)\n",
    "    \n",
    "    ax.set_xlabel(xlabel)\n",
    "    ax.set_ylabel(ylabel)\n",
    "    ax.set_xticks([i for i, _ in enumerate(x)], \n",
    "                  minor=False)\n",
    "    ax.set_xticklabels([dt for dt in x])\n",
    "\n",
    "    ax.update_datalim(corners)\n",
    "    ax.autoscale_view()\n",
    "    \n",
    "ohlc = ohlc.sort_values('Date')\n",
    "ohlc['Date'] = ohlc['Date'].apply(readable_date)\n",
    "\n",
    "print(ohlc.head())\n",
    "data = ohlc.values\n",
    "\n",
    "x = ohlc['Date'].values # np.arange(0, n, 1)\n",
    "y = data\n",
    "\n",
    "fig, ax = plt.subplots(1, figsize=(16, 9))\n",
    "candlestick(x=x, \n",
    "            y=y, \n",
    "            ax=ax, \n",
    "            w=0.6,\n",
    "            xlabel='Timestamp',\n",
    "            ylabel='Price')\n",
    "plt.xticks(rotation=60)\n",
    "\n",
    "x2 = np.arange(0, n, 1)\n",
    "y2 = [np.random.randint(100, 140) for _ in range(0, 20)]\n",
    "ax.plot(x2, y2, 'b')\n",
    "plt.show()"
   ]
  }
 ],
 "metadata": {
  "kernelspec": {
   "display_name": "Python 3",
   "language": "python",
   "name": "python3"
  },
  "language_info": {
   "codemirror_mode": {
    "name": "ipython",
    "version": 3
   },
   "file_extension": ".py",
   "mimetype": "text/x-python",
   "name": "python",
   "nbconvert_exporter": "python",
   "pygments_lexer": "ipython3",
   "version": "3.7.0"
  }
 },
 "nbformat": 4,
 "nbformat_minor": 2
}
